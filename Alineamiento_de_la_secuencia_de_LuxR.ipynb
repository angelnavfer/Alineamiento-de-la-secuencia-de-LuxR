{
  "nbformat": 4,
  "nbformat_minor": 0,
  "metadata": {
    "colab": {
      "provenance": [],
      "authorship_tag": "ABX9TyOy5MEJ2LU8a3fNrVlP/yi/",
      "include_colab_link": true
    },
    "kernelspec": {
      "name": "python3",
      "display_name": "Python 3"
    },
    "language_info": {
      "name": "python"
    }
  },
  "cells": [
    {
      "cell_type": "markdown",
      "metadata": {
        "id": "view-in-github",
        "colab_type": "text"
      },
      "source": [
        "<a href=\"https://colab.research.google.com/github/angelnavfer/Alineamiento-de-la-secuencia-de-LuxR/blob/main/Alineamiento_de_la_secuencia_de_LuxR.ipynb\" target=\"_parent\"><img src=\"https://colab.research.google.com/assets/colab-badge.svg\" alt=\"Open In Colab\"/></a>"
      ]
    },
    {
      "cell_type": "code",
      "source": [
        "!pip install pyrosettacolabsetup\n",
        "import pyrosettacolabsetup\n",
        "pyrosettacolabsetup.install_pyrosetta(cache_wheel_on_google_drive=False) # Set to False\n",
        "import pyrosetta\n",
        "from pyrosetta import *\n",
        "from pyrosetta.rosetta import *\n",
        "from pyrosetta.rosetta.core.scoring import ScoreType\n",
        "from pyrosetta.rosetta.core.pose import Pose\n",
        "from pyrosetta.rosetta.core.id import AtomID, TorsionID\n",
        "from pyrosetta.teaching import *\n",
        "import pyrosetta.toolbox\n",
        "from pyrosetta import pose_from_sequence\n",
        "from pyrosetta.toolbox import *\n",
        "init()\n"
      ],
      "metadata": {
        "colab": {
          "base_uri": "https://localhost:8080/"
        },
        "id": "DKoxQkFazcQK",
        "outputId": "41a8ac91-c505-4a11-bc9d-aab055a47377"
      },
      "execution_count": null,
      "outputs": [
        {
          "output_type": "stream",
          "name": "stdout",
          "text": [
            "Collecting pyrosettacolabsetup\n",
            "  Downloading pyrosettacolabsetup-1.0.9-py3-none-any.whl.metadata (294 bytes)\n",
            "Downloading pyrosettacolabsetup-1.0.9-py3-none-any.whl (4.9 kB)\n",
            "Installing collected packages: pyrosettacolabsetup\n",
            "Successfully installed pyrosettacolabsetup-1.0.9\n",
            "\n",
            "Note that USE OF PyRosetta FOR COMMERCIAL PURPOSES REQUIRE PURCHASE OF A LICENSE.\n",
            "See https://github.com/RosettaCommons/rosetta/blob/main/LICENSE.md or email license@uw.edu for details.\n",
            "\n",
            "Looking for compatible PyRosetta wheel file at google-drive/PyRosetta/colab.bin//wheels...\n",
            "Downloading PyRosetta package...\n",
            "\n",
            "Resolving west.rosettacommons.org (west.rosettacommons.org)... 128.95.160.153, 2607:4000:406::160:153\n",
            "\n",
            "HTTP request sent, awaiting response... 302 Found\n",
            "Location: https://west.rosettacommons.org/pyrosetta/release/release/PyRosetta4.MinSizeRel.python311.ubuntu.wheel/pyrosetta-2025.19+release.fabfc12491-cp311-cp311-linux_x86_64.whl [following]\n",
            "--2025-05-10 15:50:35--  https://west.rosettacommons.org/pyrosetta/release/release/PyRosetta4.MinSizeRel.python311.ubuntu.wheel/pyrosetta-2025.19+release.fabfc12491-cp311-cp311-linux_x86_64.whl\n",
            "\n",
            "HTTP request sent, awaiting response... 200 OK\n",
            "Length: 1601545564 (1.5G)\n",
            "--2025-05-10 15:50:35--  https://west.rosettacommons.org/pyrosetta/release/release/PyRosetta4.MinSizeRel.python311.ubuntu.wheel/pyrosetta-2025.19+release.fabfc12491-cp311-cp311-linux_x86_64.whl\n",
            "Reusing existing connection to west.rosettacommons.org:443.\n",
            "HTTP request sent, awaiting response... 200 OK\n",
            "Length: 1601545564 (1.5G)\n",
            "Saving to: ‘/PyRosetta/colab.bin/tmp6mgdygs8/pyrosetta-2025.19+release.fabfc12491-cp311-cp311-linux_x86_64.whl’\n",
            "\n",
            "pyrosetta-2025.19+r 100%[===================>]   1.49G  11.0MB/s    in 3m 9s   \n",
            "\n",
            "2025-05-10 15:53:44 (8.07 MB/s) - ‘/PyRosetta/colab.bin/tmp6mgdygs8/pyrosetta-2025.19+release.fabfc12491-cp311-cp311-linux_x86_64.whl’ saved [1601545564/1601545564]\n",
            "Moving wheel file pyrosetta-2025.19+release.fabfc12491-cp311-cp311-linux_x86_64.whl to target dir /PyRosetta/colab.bin/wheels...\n",
            "Installing PyRosetta wheel '/PyRosetta/colab.bin/wheels/pyrosetta-2025.19+release.fabfc12491-cp311-cp311-linux_x86_64.whl'...\n",
            "\n",
            "\n",
            "┌──────────────────────────────────────────────────────────────────────────────┐\n",
            "│                                 PyRosetta-4                                  │\n",
            "│              Created in JHU by Sergey Lyskov and PyRosetta Team              │\n",
            "│              (C) Copyright Rosetta Commons Member Institutions               │\n",
            "│                                                                              │\n",
            "│ NOTE: USE OF PyRosetta FOR COMMERCIAL PURPOSES REQUIRE PURCHASE OF A LICENSE │\n",
            "│         See LICENSE.PyRosetta.md or email license@uw.edu for details         │\n",
            "└──────────────────────────────────────────────────────────────────────────────┘\n",
            "PyRosetta-4 2025 [Rosetta PyRosetta4.MinSizeRel.python311.ubuntu 2025.19+release.fabfc12491cff4c3304c772667979ea068c08773 2025-04-25T16:39:18] retrieved from: http://www.pyrosetta.org\n",
            "core.init: Checking for fconfig files in pwd and ./rosetta/flags\n",
            "core.init: Rosetta version: PyRosetta4.MinSizeRel.python311.ubuntu r399 2025.19+release.fabfc12491 fabfc12491cff4c3304c772667979ea068c08773 http://www.pyrosetta.org 2025-04-25T16:39:18\n",
            "core.init: Rosetta extras: []\n",
            "core.init: command: PyRosetta -ex1 -ex2aro -database /usr/local/lib/python3.11/dist-packages/pyrosetta/database\n",
            "basic.random.init_random_generator: 'RNG device' seed mode, using '/dev/urandom', seed=191588490 seed_offset=0 real_seed=191588490\n",
            "basic.random.init_random_generator: RandomGenerator:init: Normal mode, seed=191588490 RG_type=mt19937\n"
          ]
        }
      ]
    },
    {
      "cell_type": "code",
      "source": [
        "poseBenchling = pose_from_sequence(\"MKNINADDTYRIINKIKACRSNNDINQCLSDMTKMVHCEYYLLAIIYPHSMVKSDISILDNYPKKWRQYYDDANLIKYDPIVDYSNSNHSPINWNIFENNAVNKKSPNVIKEAKTSGLITGFSFPIHTANNGFGMLSFAHSEKDNYIDSLFLHACMNIPLIVPSLVDNYRKINIANNKSNNDLTKREKECLAWACEGKSSWDISKILGCSERTVTFHLTNAQMKLNTTNRCQSISKAILTGAIDCPYFKN\")\n",
        "seqBenchling = poseBenchling.sequence()"
      ],
      "metadata": {
        "colab": {
          "base_uri": "https://localhost:8080/"
        },
        "id": "b2EsGj6x5-Bd",
        "outputId": "dcb3a446-a800-43d0-8ee9-61d8235433b8"
      },
      "execution_count": null,
      "outputs": [
        {
          "output_type": "stream",
          "name": "stdout",
          "text": [
            "core.chemical.GlobalResidueTypeSet: Finished initializing fa_standard residue type set.  Created 985 residue types\n",
            "core.chemical.GlobalResidueTypeSet: Total time to initialize 1.23341 seconds.\n"
          ]
        }
      ]
    },
    {
      "cell_type": "code",
      "source": [
        "poseiGEM = pose_from_sequence(\"MKNINADDTYRIINKIKACRSNNDINQCLSDMTKMVHCEYYLLAIIYPHSMVKSDISILDNYPKKWRQYYDDANLIKYDPIVDYSNSNHSPINWNIFENNAVNKKSPNVIKEAKTSGLITGFSFPIHTANNGFGMLSFAHSEKDNYIDSLFLHACMNIPLIVPSLVDNYRKINIANNKSNNDLTKREKECLAWACEGKSSWDISKILGCSERTVTFHLTNAQMKLNTTNRCQSISKAILTGAIDCPYFKN\")\n",
        "seqiGEM = poseiGEM.sequence()"
      ],
      "metadata": {
        "id": "GMVJWOxQz-Jd"
      },
      "execution_count": null,
      "outputs": []
    },
    {
      "cell_type": "code",
      "source": [
        "poseUniProt = pose_from_sequence(\"MKNINADDTYRIINKIKACRSNNDINQCLSDMTKMVHCEYYLLAIIYPHSMVKSDISILDNYPKKWRQYYDDANLIKYDPIVDYSNSNHSPINWNIFENNAVNKKSPNVIKEAKTSGLITGFSFPIHTANNGFGMLSFAHSEKDNYIDSLFLHACMNIPLIVPSLVDNYRKINIANNKSNNDLTKREKECLAWACEGKSSWDISKILGCSERTVTFHLTNAQMKLNTTNRCQSISKAILTGAIDCPYFKN\")\n",
        "seqUniProt = poseUniProt.sequence()"
      ],
      "metadata": {
        "id": "HzWfIC5cAAxN"
      },
      "execution_count": null,
      "outputs": []
    },
    {
      "cell_type": "code",
      "source": [
        "!pip install biopython\n",
        "from Bio import pairwise2\n",
        "from Bio.pairwise2 import format_alignment\n",
        "\n",
        "alignments = pairwise2.align.globalxx(seqiGEM, seqUniProt)\n",
        "\n",
        "print(\"Best alignment:\")\n",
        "print(format_alignment(*alignments[0]))"
      ],
      "metadata": {
        "colab": {
          "base_uri": "https://localhost:8080/"
        },
        "id": "IoZVe9auAYBT",
        "outputId": "7c729f97-460d-4b08-fa0b-e5c6d6ad5d21"
      },
      "execution_count": null,
      "outputs": [
        {
          "output_type": "stream",
          "name": "stdout",
          "text": [
            "Collecting biopython\n",
            "  Downloading biopython-1.85-cp311-cp311-manylinux_2_17_x86_64.manylinux2014_x86_64.whl.metadata (13 kB)\n",
            "Requirement already satisfied: numpy in /usr/local/lib/python3.11/dist-packages (from biopython) (2.0.2)\n",
            "Downloading biopython-1.85-cp311-cp311-manylinux_2_17_x86_64.manylinux2014_x86_64.whl (3.3 MB)\n",
            "\u001b[2K   \u001b[90m━━━━━━━━━━━━━━━━━━━━━━━━━━━━━━━━━━━━━━━━\u001b[0m \u001b[32m3.3/3.3 MB\u001b[0m \u001b[31m22.4 MB/s\u001b[0m eta \u001b[36m0:00:00\u001b[0m\n",
            "\u001b[?25hInstalling collected packages: biopython\n",
            "Successfully installed biopython-1.85\n",
            "Best alignment:\n",
            "MKNINADDTYRIINKIKACRSNNDINQCLSDMTKMVHCEYYLLAIIYPHSMVKSDISILDNYPKKWRQYYDDANLIKYDPIVDYSNSNHSPINWNIFENNAVNKKSPNVIKEAKTSGLITGFSFPIHTANNGFGMLSFAHSEKDNYIDSLFLHACMNIPLIVPSLVDNYRKINIANNKSNNDLTKREKECLAWACEGKSSWDISKILGCSERTVTFHLTNAQMKLNTTNRCQSISKAILTGAIDCPYFKN\n",
            "||||||||||||||||||||||||||||||||||||||||||||||||||||||||||||||||||||||||||||||||||||||||||||||||||||||||||||||||||||||||||||||||||||||||||||||||||||||||||||||||||||||||||||||||||||||||||||||||||||||||||||||||||||||||||||||||||||||||||||||||||||||||||\n",
            "MKNINADDTYRIINKIKACRSNNDINQCLSDMTKMVHCEYYLLAIIYPHSMVKSDISILDNYPKKWRQYYDDANLIKYDPIVDYSNSNHSPINWNIFENNAVNKKSPNVIKEAKTSGLITGFSFPIHTANNGFGMLSFAHSEKDNYIDSLFLHACMNIPLIVPSLVDNYRKINIANNKSNNDLTKREKECLAWACEGKSSWDISKILGCSERTVTFHLTNAQMKLNTTNRCQSISKAILTGAIDCPYFKN\n",
            "  Score=250\n",
            "\n"
          ]
        },
        {
          "output_type": "stream",
          "name": "stderr",
          "text": [
            "/usr/local/lib/python3.11/dist-packages/Bio/pairwise2.py:278: BiopythonDeprecationWarning: Bio.pairwise2 has been deprecated, and we intend to remove it in a future release of Biopython. As an alternative, please consider using Bio.Align.PairwiseAligner as a replacement, and contact the Biopython developers if you still need the Bio.pairwise2 module.\n",
            "  warnings.warn(\n"
          ]
        }
      ]
    },
    {
      "cell_type": "code",
      "source": [
        "alignments = pairwise2.align.globalxx(seqiGEM, seqBenchling)\n",
        "\n",
        "print(\"Best alignment:\")\n",
        "print(format_alignment(*alignments[0]))"
      ],
      "metadata": {
        "id": "1WmOOXKAAy1r",
        "colab": {
          "base_uri": "https://localhost:8080/"
        },
        "outputId": "175138bc-4b75-40db-9f7a-5fbee79ccd70"
      },
      "execution_count": null,
      "outputs": [
        {
          "output_type": "stream",
          "name": "stdout",
          "text": [
            "Best alignment:\n",
            "MKNINADDTYRIINKIKACRSNNDINQCLSDMTKMVHCEYYLLAIIYPHSMVKSDISILDNYPKKWRQYYDDANLIKYDPIVDYSNSNHSPINWNIFENNAVNKKSPNVIKEAKTSGLITGFSFPIHTANNGFGMLSFAHSEKDNYIDSLFLHACMNIPLIVPSLVDNYRKINIANNKSNNDLTKREKECLAWACEGKSSWDISKILGCSERTVTFHLTNAQMKLNTTNRCQSISKAILTGAIDCPYFKN\n",
            "||||||||||||||||||||||||||||||||||||||||||||||||||||||||||||||||||||||||||||||||||||||||||||||||||||||||||||||||||||||||||||||||||||||||||||||||||||||||||||||||||||||||||||||||||||||||||||||||||||||||||||||||||||||||||||||||||||||||||||||||||||||||||\n",
            "MKNINADDTYRIINKIKACRSNNDINQCLSDMTKMVHCEYYLLAIIYPHSMVKSDISILDNYPKKWRQYYDDANLIKYDPIVDYSNSNHSPINWNIFENNAVNKKSPNVIKEAKTSGLITGFSFPIHTANNGFGMLSFAHSEKDNYIDSLFLHACMNIPLIVPSLVDNYRKINIANNKSNNDLTKREKECLAWACEGKSSWDISKILGCSERTVTFHLTNAQMKLNTTNRCQSISKAILTGAIDCPYFKN\n",
            "  Score=250\n",
            "\n"
          ]
        }
      ]
    }
  ]
}